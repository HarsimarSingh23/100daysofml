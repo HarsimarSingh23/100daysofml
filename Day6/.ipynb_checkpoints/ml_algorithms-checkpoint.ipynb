{
 "cells": [
  {
   "cell_type": "code",
   "execution_count": null,
   "metadata": {},
   "outputs": [],
   "source": [
    "# fitting different models and understanding their performance"
   ]
  },
  {
   "cell_type": "code",
   "execution_count": 15,
   "metadata": {},
   "outputs": [],
   "source": [
    "# performance of model \n",
    "# 1. Accuracy\n",
    "# 2. Precision and Recall"
   ]
  },
  {
   "cell_type": "code",
   "execution_count": 20,
   "metadata": {},
   "outputs": [
    {
     "name": "stdout",
     "output_type": "stream",
     "text": [
      "60.0\n"
     ]
    }
   ],
   "source": [
    "import numpy as np\n",
    "\n",
    "def accuracy(y_pred, y_true):\n",
    "    y_pred = np.array(y_pred)\n",
    "    y_true = np.array(y_true)\n",
    "    # print(np.sum(y_pred == y_true))  sum on list of bool values return true for all the true values\n",
    "    return np.sum(y_pred == y_true) / len(y_true) * 100 \n",
    "    # range from 0 to 100. 0 means no prediction is correct and 100 means all predictions are correct\n",
    "\n",
    "x = [1, 2, 3, 4, 5]\n",
    "y_pred = [0, 0, 1, 1, 1]\n",
    "y_true = [1, 0, 1, 1, 0]\n",
    "# important thing to note is let's say 0 is postive class and 1 is negative class but we are not considering anything \n",
    "# just focusing on what is correct and what is not correct\n",
    "print(accuracy(y_pred, y_true))\n",
    "\n",
    "# Problems - > \n",
    "# 1. Accuracy is not a good measure when we have class imbalance problem because if we have 90% of data in one class and 10% in another class then \n",
    "#   even if we predict all the data points in the majority class then also we will get 90% accuracy which is not good\n",
    "# 2. Accuracy is not a good measure when we have multi class classification problem because it is difficult \n",
    "# to understand which class is predicted correctly and which is not predicted correctly \n",
    "# 3. Accuracy is not a good measure when we have regression problem because we can't say that if we are predicting the value\n"
   ]
  },
  {
   "cell_type": "code",
   "execution_count": 2,
   "metadata": {},
   "outputs": [],
   "source": [
    "# let's implement confusion matrix \n",
    " \n",
    "def confusion_matrix(y_pred, y_orig):\n",
    "# i will need to hold values for predictions and what their actual value is  \n",
    "    tp = np.sum( ( y_orig == 1 ) & ( y_pred == 1 ) )\n",
    "    tn = np.sum( ( y_orig == 0 ) & ( y_ pred == 0 ) )\n",
    "    fp = np.sum( ( y_orig == 0 ) & ( y_ pred == 1 ) )\n",
    "    fn = np.sum( ( y_orig == 1 ) & ( y_ pred == 0 ) )\n",
    "         \n"
   ]
  },
  {
   "cell_type": "code",
   "execution_count": null,
   "metadata": {},
   "outputs": [],
   "source": []
  }
 ],
 "metadata": {
  "kernelspec": {
   "display_name": "Python 3 (ipykernel)",
   "language": "python",
   "name": "python3"
  },
  "language_info": {
   "codemirror_mode": {
    "name": "ipython",
    "version": 3
   },
   "file_extension": ".py",
   "mimetype": "text/x-python",
   "name": "python",
   "nbconvert_exporter": "python",
   "pygments_lexer": "ipython3",
   "version": "3.11.8"
  }
 },
 "nbformat": 4,
 "nbformat_minor": 4
}
