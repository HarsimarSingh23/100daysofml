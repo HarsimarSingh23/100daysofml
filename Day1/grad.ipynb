{
 "cells": [
  {
   "cell_type": "code",
   "execution_count": 1,
   "metadata": {},
   "outputs": [],
   "source": [
    "import torch"
   ]
  },
  {
   "cell_type": "code",
   "execution_count": 9,
   "metadata": {},
   "outputs": [
    {
     "ename": "RuntimeError",
     "evalue": "Only Tensors of floating point and complex dtype can require gradients",
     "output_type": "error",
     "traceback": [
      "\u001b[0;31m---------------------------------------------------------------------------\u001b[0m",
      "\u001b[0;31mRuntimeError\u001b[0m                              Traceback (most recent call last)",
      "Cell \u001b[0;32mIn[9], line 2\u001b[0m\n\u001b[1;32m      1\u001b[0m \u001b[38;5;66;03m# grad can only be enabled for floating point tensors\u001b[39;00m\n\u001b[0;32m----> 2\u001b[0m a \u001b[38;5;241m=\u001b[39m \u001b[43mtorch\u001b[49m\u001b[38;5;241;43m.\u001b[39;49m\u001b[43mtensor\u001b[49m\u001b[43m(\u001b[49m\u001b[43m[\u001b[49m\u001b[38;5;241;43m1\u001b[39;49m\u001b[43m,\u001b[49m\u001b[43m \u001b[49m\u001b[38;5;241;43m2\u001b[39;49m\u001b[43m,\u001b[49m\u001b[43m \u001b[49m\u001b[38;5;241;43m3\u001b[39;49m\u001b[43m]\u001b[49m\u001b[43m,\u001b[49m\u001b[43m \u001b[49m\u001b[43mrequires_grad\u001b[49m\u001b[38;5;241;43m=\u001b[39;49m\u001b[38;5;28;43;01mTrue\u001b[39;49;00m\u001b[43m)\u001b[49m\n\u001b[1;32m      3\u001b[0m b \u001b[38;5;241m=\u001b[39m torch\u001b[38;5;241m.\u001b[39mtensor([\u001b[38;5;241m4.\u001b[39m, \u001b[38;5;241m5.\u001b[39m, \u001b[38;5;241m6.\u001b[39m], requires_grad\u001b[38;5;241m=\u001b[39m\u001b[38;5;28;01mTrue\u001b[39;00m)\n",
      "\u001b[0;31mRuntimeError\u001b[0m: Only Tensors of floating point and complex dtype can require gradients"
     ]
    }
   ],
   "source": [
    "# grad can only be enabled for floating point tensors\n",
    "a = torch.tensor([1, 2, 3], requires_grad=True)\n",
    "b = torch.tensor([4., 5., 6.], requires_grad=True)\n"
   ]
  },
  {
   "cell_type": "code",
   "execution_count": 24,
   "metadata": {},
   "outputs": [],
   "source": [
    "a = torch.tensor([1., 2., 3.], requires_grad=True)\n",
    "b = torch.tensor([4., 5., 6.], requires_grad=True)\n"
   ]
  },
  {
   "cell_type": "code",
   "execution_count": 25,
   "metadata": {},
   "outputs": [],
   "source": [
    "Q =3 * a ** 3 - b ** 2\n"
   ]
  },
  {
   "cell_type": "code",
   "execution_count": 26,
   "metadata": {},
   "outputs": [
    {
     "data": {
      "text/plain": [
       "tensor([-13.,  -1.,  45.], grad_fn=<SubBackward0>)"
      ]
     },
     "execution_count": 26,
     "metadata": {},
     "output_type": "execute_result"
    }
   ],
   "source": [
    "Q"
   ]
  },
  {
   "cell_type": "code",
   "execution_count": 27,
   "metadata": {},
   "outputs": [],
   "source": [
    "external_grad = torch.tensor([1., 1., 1.])"
   ]
  },
  {
   "cell_type": "code",
   "execution_count": 28,
   "metadata": {},
   "outputs": [],
   "source": [
    "Q.backward(gradient=external_grad)"
   ]
  },
  {
   "cell_type": "code",
   "execution_count": 29,
   "metadata": {},
   "outputs": [
    {
     "data": {
      "text/plain": [
       "tensor([1., 1., 1.])"
      ]
     },
     "execution_count": 29,
     "metadata": {},
     "output_type": "execute_result"
    }
   ],
   "source": [
    "external_grad"
   ]
  },
  {
   "cell_type": "code",
   "execution_count": 30,
   "metadata": {},
   "outputs": [
    {
     "name": "stdout",
     "output_type": "stream",
     "text": [
      "tensor([True, True, True])\n"
     ]
    }
   ],
   "source": [
    "print(9*(a**2) == a.grad)"
   ]
  },
  {
   "cell_type": "code",
   "execution_count": 32,
   "metadata": {},
   "outputs": [
    {
     "name": "stdout",
     "output_type": "stream",
     "text": [
      "tensor([True, True, True])\n"
     ]
    }
   ],
   "source": [
    "print(-2*b == b.grad)"
   ]
  },
  {
   "cell_type": "code",
   "execution_count": 34,
   "metadata": {},
   "outputs": [
    {
     "data": {
      "text/plain": [
       "tensor([ -8., -10., -12.], grad_fn=<MulBackward0>)"
      ]
     },
     "execution_count": 34,
     "metadata": {},
     "output_type": "execute_result"
    }
   ],
   "source": [
    "-2*b"
   ]
  },
  {
   "cell_type": "code",
   "execution_count": 35,
   "metadata": {},
   "outputs": [
    {
     "data": {
      "text/plain": [
       "tensor([ -8., -10., -12.])"
      ]
     },
     "execution_count": 35,
     "metadata": {},
     "output_type": "execute_result"
    }
   ],
   "source": [
    "b.grad"
   ]
  },
  {
   "cell_type": "code",
   "execution_count": 49,
   "metadata": {},
   "outputs": [],
   "source": [
    "# let's check micrograd\n",
    "\n",
    "from micrograd.engine import Value\n",
    "from micrograd import nn\n",
    "import graphviz\n",
    "from graphviz import Digraph"
   ]
  },
  {
   "cell_type": "code",
   "execution_count": 53,
   "metadata": {},
   "outputs": [],
   "source": [
    "def trace(root):\n",
    "    nodes, edges = set(), set()\n",
    "    def build(v):\n",
    "        if v not in nodes:\n",
    "            nodes.add(v)\n",
    "            for child in v._prev:\n",
    "                edges.add((child, v))\n",
    "                build(child)\n",
    "    build(root)\n",
    "    return nodes, edges\n",
    "\n",
    "def draw_dot(root, format='svg', rankdir='LR'):\n",
    "    \"\"\"\n",
    "    format: png | svg | ...\n",
    "    rankdir: TB (top to bottom graph) | LR (left to right)\n",
    "    \"\"\"\n",
    "    assert rankdir in ['LR', 'TB']\n",
    "    nodes, edges = trace(root)\n",
    "    dot = Digraph(format=format, graph_attr={'rankdir': rankdir}) #, node_attr={'rankdir': 'TB'})\n",
    "    \n",
    "    for n in nodes:\n",
    "        dot.node(name=str(id(n)), label = \"{ data %.4f | grad %.4f }\" % (n.data, n.grad), shape='record')\n",
    "        if n._op:\n",
    "            dot.node(name=str(id(n)) + n._op, label=n._op)\n",
    "            dot.edge(str(id(n)) + n._op, str(id(n)))\n",
    "    \n",
    "    for n1, n2 in edges:\n",
    "        dot.edge(str(id(n1)), str(id(n2)) + n2._op)\n",
    "    \n",
    "    return dot"
   ]
  },
  {
   "cell_type": "code",
   "execution_count": 54,
   "metadata": {},
   "outputs": [],
   "source": [
    "n = nn.Neuron(2)\n",
    "x= [Value(1.0), Value(2.0)]\n",
    "y = n(x)\n",
    "dot = draw_dot(y)"
   ]
  },
  {
   "cell_type": "code",
   "execution_count": 56,
   "metadata": {},
   "outputs": [
    {
     "data": {
      "image/svg+xml": [
       "<?xml version=\"1.0\" encoding=\"UTF-8\" standalone=\"no\"?>\n",
       "<!DOCTYPE svg PUBLIC \"-//W3C//DTD SVG 1.1//EN\"\n",
       " \"http://www.w3.org/Graphics/SVG/1.1/DTD/svg11.dtd\">\n",
       "<!-- Generated by graphviz version 11.0.0 (20240428.1522)\n",
       " -->\n",
       "<!-- Pages: 1 -->\n",
       "<svg width=\"1348pt\" height=\"210pt\"\n",
       " viewBox=\"0.00 0.00 1347.88 210.00\" xmlns=\"http://www.w3.org/2000/svg\" xmlns:xlink=\"http://www.w3.org/1999/xlink\">\n",
       "<g id=\"graph0\" class=\"graph\" transform=\"scale(1 1) rotate(0) translate(4 206)\">\n",
       "<polygon fill=\"white\" stroke=\"none\" points=\"-4,4 -4,-206 1343.88,-206 1343.88,4 -4,4\"/>\n",
       "<!-- 6063173712 -->\n",
       "<g id=\"node1\" class=\"node\">\n",
       "<title>6063173712</title>\n",
       "<polygon fill=\"none\" stroke=\"black\" points=\"583,-55.5 583,-91.5 748.5,-91.5 748.5,-55.5 583,-55.5\"/>\n",
       "<text text-anchor=\"middle\" x=\"625.12\" y=\"-68.7\" font-family=\"Times,serif\" font-size=\"14.00\">data &#45;1.0881</text>\n",
       "<polyline fill=\"none\" stroke=\"black\" points=\"667.25,-56 667.25,-91.5\"/>\n",
       "<text text-anchor=\"middle\" x=\"707.88\" y=\"-68.7\" font-family=\"Times,serif\" font-size=\"14.00\">grad 0.0000</text>\n",
       "</g>\n",
       "<!-- 6063166160+ -->\n",
       "<g id=\"node5\" class=\"node\">\n",
       "<title>6063166160+</title>\n",
       "<ellipse fill=\"none\" stroke=\"black\" cx=\"811.5\" cy=\"-100.5\" rx=\"27\" ry=\"18\"/>\n",
       "<text text-anchor=\"middle\" x=\"811.5\" y=\"-95.45\" font-family=\"Times,serif\" font-size=\"14.00\">+</text>\n",
       "</g>\n",
       "<!-- 6063173712&#45;&gt;6063166160+ -->\n",
       "<g id=\"edge10\" class=\"edge\">\n",
       "<title>6063173712&#45;&gt;6063166160+</title>\n",
       "<path fill=\"none\" stroke=\"black\" d=\"M748.7,-88.89C757.5,-90.54 766.08,-92.16 773.92,-93.63\"/>\n",
       "<polygon fill=\"black\" stroke=\"black\" points=\"773.22,-97.06 783.7,-95.47 774.51,-90.18 773.22,-97.06\"/>\n",
       "</g>\n",
       "<!-- 6063173712* -->\n",
       "<g id=\"node2\" class=\"node\">\n",
       "<title>6063173712*</title>\n",
       "<ellipse fill=\"none\" stroke=\"black\" cx=\"520\" cy=\"-73.5\" rx=\"27\" ry=\"18\"/>\n",
       "<text text-anchor=\"middle\" x=\"520\" y=\"-68.45\" font-family=\"Times,serif\" font-size=\"14.00\">*</text>\n",
       "</g>\n",
       "<!-- 6063173712*&#45;&gt;6063173712 -->\n",
       "<g id=\"edge1\" class=\"edge\">\n",
       "<title>6063173712*&#45;&gt;6063173712</title>\n",
       "<path fill=\"none\" stroke=\"black\" d=\"M547.37,-73.5C554.47,-73.5 562.57,-73.5 571.14,-73.5\"/>\n",
       "<polygon fill=\"black\" stroke=\"black\" points=\"571.09,-77 581.09,-73.5 571.09,-70 571.09,-77\"/>\n",
       "</g>\n",
       "<!-- 6063669328 -->\n",
       "<g id=\"node3\" class=\"node\">\n",
       "<title>6063669328</title>\n",
       "<polygon fill=\"none\" stroke=\"black\" points=\"293.75,-165.5 293.75,-201.5 454.75,-201.5 454.75,-165.5 293.75,-165.5\"/>\n",
       "<text text-anchor=\"middle\" x=\"333.62\" y=\"-178.7\" font-family=\"Times,serif\" font-size=\"14.00\">data 0.0000</text>\n",
       "<polyline fill=\"none\" stroke=\"black\" points=\"373.5,-166 373.5,-201.5\"/>\n",
       "<text text-anchor=\"middle\" x=\"414.12\" y=\"-178.7\" font-family=\"Times,serif\" font-size=\"14.00\">grad 0.0000</text>\n",
       "</g>\n",
       "<!-- 6062586704+ -->\n",
       "<g id=\"node9\" class=\"node\">\n",
       "<title>6062586704+</title>\n",
       "<ellipse fill=\"none\" stroke=\"black\" cx=\"520\" cy=\"-128.5\" rx=\"27\" ry=\"18\"/>\n",
       "<text text-anchor=\"middle\" x=\"520\" y=\"-123.45\" font-family=\"Times,serif\" font-size=\"14.00\">+</text>\n",
       "</g>\n",
       "<!-- 6063669328&#45;&gt;6062586704+ -->\n",
       "<g id=\"edge9\" class=\"edge\">\n",
       "<title>6063669328&#45;&gt;6062586704+</title>\n",
       "<path fill=\"none\" stroke=\"black\" d=\"M433.58,-165.07C441.49,-162.33 449.48,-159.43 457,-156.5 466.91,-152.64 477.53,-148.02 487.12,-143.67\"/>\n",
       "<polygon fill=\"black\" stroke=\"black\" points=\"488.44,-146.92 496.06,-139.55 485.51,-140.56 488.44,-146.92\"/>\n",
       "</g>\n",
       "<!-- 6063166160 -->\n",
       "<g id=\"node4\" class=\"node\">\n",
       "<title>6063166160</title>\n",
       "<polygon fill=\"none\" stroke=\"black\" points=\"874.5,-82.5 874.5,-118.5 1040,-118.5 1040,-82.5 874.5,-82.5\"/>\n",
       "<text text-anchor=\"middle\" x=\"916.62\" y=\"-95.7\" font-family=\"Times,serif\" font-size=\"14.00\">data &#45;1.7909</text>\n",
       "<polyline fill=\"none\" stroke=\"black\" points=\"958.75,-83 958.75,-118.5\"/>\n",
       "<text text-anchor=\"middle\" x=\"999.38\" y=\"-95.7\" font-family=\"Times,serif\" font-size=\"14.00\">grad 0.0000</text>\n",
       "</g>\n",
       "<!-- 6063174032ReLU -->\n",
       "<g id=\"node14\" class=\"node\">\n",
       "<title>6063174032ReLU</title>\n",
       "<ellipse fill=\"none\" stroke=\"black\" cx=\"1109.44\" cy=\"-100.5\" rx=\"33.44\" ry=\"18\"/>\n",
       "<text text-anchor=\"middle\" x=\"1109.44\" y=\"-95.45\" font-family=\"Times,serif\" font-size=\"14.00\">ReLU</text>\n",
       "</g>\n",
       "<!-- 6063166160&#45;&gt;6063174032ReLU -->\n",
       "<g id=\"edge7\" class=\"edge\">\n",
       "<title>6063166160&#45;&gt;6063174032ReLU</title>\n",
       "<path fill=\"none\" stroke=\"black\" d=\"M1040.37,-100.5C1048.55,-100.5 1056.62,-100.5 1064.18,-100.5\"/>\n",
       "<polygon fill=\"black\" stroke=\"black\" points=\"1064.08,-104 1074.08,-100.5 1064.08,-97 1064.08,-104\"/>\n",
       "</g>\n",
       "<!-- 6063166160+&#45;&gt;6063166160 -->\n",
       "<g id=\"edge2\" class=\"edge\">\n",
       "<title>6063166160+&#45;&gt;6063166160</title>\n",
       "<path fill=\"none\" stroke=\"black\" d=\"M838.87,-100.5C845.97,-100.5 854.07,-100.5 862.64,-100.5\"/>\n",
       "<polygon fill=\"black\" stroke=\"black\" points=\"862.59,-104 872.59,-100.5 862.59,-97 862.59,-104\"/>\n",
       "</g>\n",
       "<!-- 6063679760 -->\n",
       "<g id=\"node6\" class=\"node\">\n",
       "<title>6063679760</title>\n",
       "<polygon fill=\"none\" stroke=\"black\" points=\"293.75,-55.5 293.75,-91.5 454.75,-91.5 454.75,-55.5 293.75,-55.5\"/>\n",
       "<text text-anchor=\"middle\" x=\"333.62\" y=\"-68.7\" font-family=\"Times,serif\" font-size=\"14.00\">data 2.0000</text>\n",
       "<polyline fill=\"none\" stroke=\"black\" points=\"373.5,-56 373.5,-91.5\"/>\n",
       "<text text-anchor=\"middle\" x=\"414.12\" y=\"-68.7\" font-family=\"Times,serif\" font-size=\"14.00\">grad 0.0000</text>\n",
       "</g>\n",
       "<!-- 6063679760&#45;&gt;6063173712* -->\n",
       "<g id=\"edge11\" class=\"edge\">\n",
       "<title>6063679760&#45;&gt;6063173712*</title>\n",
       "<path fill=\"none\" stroke=\"black\" d=\"M455.11,-73.5C464.23,-73.5 473.17,-73.5 481.35,-73.5\"/>\n",
       "<polygon fill=\"black\" stroke=\"black\" points=\"481.19,-77 491.19,-73.5 481.19,-70 481.19,-77\"/>\n",
       "</g>\n",
       "<!-- 6063058192 -->\n",
       "<g id=\"node7\" class=\"node\">\n",
       "<title>6063058192</title>\n",
       "<polygon fill=\"none\" stroke=\"black\" points=\"0,-138.5 0,-174.5 165.5,-174.5 165.5,-138.5 0,-138.5\"/>\n",
       "<text text-anchor=\"middle\" x=\"42.12\" y=\"-151.7\" font-family=\"Times,serif\" font-size=\"14.00\">data &#45;0.7028</text>\n",
       "<polyline fill=\"none\" stroke=\"black\" points=\"84.25,-139 84.25,-174.5\"/>\n",
       "<text text-anchor=\"middle\" x=\"124.88\" y=\"-151.7\" font-family=\"Times,serif\" font-size=\"14.00\">grad 0.0000</text>\n",
       "</g>\n",
       "<!-- 6063167824* -->\n",
       "<g id=\"node11\" class=\"node\">\n",
       "<title>6063167824*</title>\n",
       "<ellipse fill=\"none\" stroke=\"black\" cx=\"228.5\" cy=\"-128.5\" rx=\"27\" ry=\"18\"/>\n",
       "<text text-anchor=\"middle\" x=\"228.5\" y=\"-123.45\" font-family=\"Times,serif\" font-size=\"14.00\">*</text>\n",
       "</g>\n",
       "<!-- 6063058192&#45;&gt;6063167824* -->\n",
       "<g id=\"edge13\" class=\"edge\">\n",
       "<title>6063058192&#45;&gt;6063167824*</title>\n",
       "<path fill=\"none\" stroke=\"black\" d=\"M165.7,-140.54C174.5,-138.82 183.08,-137.15 190.92,-135.62\"/>\n",
       "<polygon fill=\"black\" stroke=\"black\" points=\"191.55,-139.07 200.7,-133.72 190.21,-132.2 191.55,-139.07\"/>\n",
       "</g>\n",
       "<!-- 6062586704 -->\n",
       "<g id=\"node8\" class=\"node\">\n",
       "<title>6062586704</title>\n",
       "<polygon fill=\"none\" stroke=\"black\" points=\"583,-110.5 583,-146.5 748.5,-146.5 748.5,-110.5 583,-110.5\"/>\n",
       "<text text-anchor=\"middle\" x=\"625.12\" y=\"-123.7\" font-family=\"Times,serif\" font-size=\"14.00\">data &#45;0.7028</text>\n",
       "<polyline fill=\"none\" stroke=\"black\" points=\"667.25,-111 667.25,-146.5\"/>\n",
       "<text text-anchor=\"middle\" x=\"707.88\" y=\"-123.7\" font-family=\"Times,serif\" font-size=\"14.00\">grad 0.0000</text>\n",
       "</g>\n",
       "<!-- 6062586704&#45;&gt;6063166160+ -->\n",
       "<g id=\"edge14\" class=\"edge\">\n",
       "<title>6062586704&#45;&gt;6063166160+</title>\n",
       "<path fill=\"none\" stroke=\"black\" d=\"M748.7,-112.54C757.5,-110.82 766.08,-109.15 773.92,-107.62\"/>\n",
       "<polygon fill=\"black\" stroke=\"black\" points=\"774.55,-111.07 783.7,-105.72 773.21,-104.2 774.55,-111.07\"/>\n",
       "</g>\n",
       "<!-- 6062586704+&#45;&gt;6062586704 -->\n",
       "<g id=\"edge3\" class=\"edge\">\n",
       "<title>6062586704+&#45;&gt;6062586704</title>\n",
       "<path fill=\"none\" stroke=\"black\" d=\"M547.37,-128.5C554.47,-128.5 562.57,-128.5 571.14,-128.5\"/>\n",
       "<polygon fill=\"black\" stroke=\"black\" points=\"571.09,-132 581.09,-128.5 571.09,-125 571.09,-132\"/>\n",
       "</g>\n",
       "<!-- 6063167824 -->\n",
       "<g id=\"node10\" class=\"node\">\n",
       "<title>6063167824</title>\n",
       "<polygon fill=\"none\" stroke=\"black\" points=\"291.5,-110.5 291.5,-146.5 457,-146.5 457,-110.5 291.5,-110.5\"/>\n",
       "<text text-anchor=\"middle\" x=\"333.62\" y=\"-123.7\" font-family=\"Times,serif\" font-size=\"14.00\">data &#45;0.7028</text>\n",
       "<polyline fill=\"none\" stroke=\"black\" points=\"375.75,-111 375.75,-146.5\"/>\n",
       "<text text-anchor=\"middle\" x=\"416.38\" y=\"-123.7\" font-family=\"Times,serif\" font-size=\"14.00\">grad 0.0000</text>\n",
       "</g>\n",
       "<!-- 6063167824&#45;&gt;6062586704+ -->\n",
       "<g id=\"edge12\" class=\"edge\">\n",
       "<title>6063167824&#45;&gt;6062586704+</title>\n",
       "<path fill=\"none\" stroke=\"black\" d=\"M457.2,-128.5C465.64,-128.5 473.9,-128.5 481.48,-128.5\"/>\n",
       "<polygon fill=\"black\" stroke=\"black\" points=\"481.27,-132 491.27,-128.5 481.27,-125 481.27,-132\"/>\n",
       "</g>\n",
       "<!-- 6063167824*&#45;&gt;6063167824 -->\n",
       "<g id=\"edge4\" class=\"edge\">\n",
       "<title>6063167824*&#45;&gt;6063167824</title>\n",
       "<path fill=\"none\" stroke=\"black\" d=\"M255.87,-128.5C262.97,-128.5 271.07,-128.5 279.64,-128.5\"/>\n",
       "<polygon fill=\"black\" stroke=\"black\" points=\"279.59,-132 289.59,-128.5 279.59,-125 279.59,-132\"/>\n",
       "</g>\n",
       "<!-- 6063361872 -->\n",
       "<g id=\"node12\" class=\"node\">\n",
       "<title>6063361872</title>\n",
       "<polygon fill=\"none\" stroke=\"black\" points=\"2.25,-83.5 2.25,-119.5 163.25,-119.5 163.25,-83.5 2.25,-83.5\"/>\n",
       "<text text-anchor=\"middle\" x=\"42.12\" y=\"-96.7\" font-family=\"Times,serif\" font-size=\"14.00\">data 1.0000</text>\n",
       "<polyline fill=\"none\" stroke=\"black\" points=\"82,-84 82,-119.5\"/>\n",
       "<text text-anchor=\"middle\" x=\"122.62\" y=\"-96.7\" font-family=\"Times,serif\" font-size=\"14.00\">grad 0.0000</text>\n",
       "</g>\n",
       "<!-- 6063361872&#45;&gt;6063167824* -->\n",
       "<g id=\"edge6\" class=\"edge\">\n",
       "<title>6063361872&#45;&gt;6063167824*</title>\n",
       "<path fill=\"none\" stroke=\"black\" d=\"M163.61,-116.5C173.1,-118.28 182.4,-120.03 190.84,-121.61\"/>\n",
       "<polygon fill=\"black\" stroke=\"black\" points=\"190.16,-125.05 200.64,-123.45 191.46,-118.17 190.16,-125.05\"/>\n",
       "</g>\n",
       "<!-- 6063174032 -->\n",
       "<g id=\"node13\" class=\"node\">\n",
       "<title>6063174032</title>\n",
       "<polygon fill=\"none\" stroke=\"black\" points=\"1178.88,-82.5 1178.88,-118.5 1339.88,-118.5 1339.88,-82.5 1178.88,-82.5\"/>\n",
       "<text text-anchor=\"middle\" x=\"1218.75\" y=\"-95.7\" font-family=\"Times,serif\" font-size=\"14.00\">data 0.0000</text>\n",
       "<polyline fill=\"none\" stroke=\"black\" points=\"1258.63,-83 1258.63,-118.5\"/>\n",
       "<text text-anchor=\"middle\" x=\"1299.25\" y=\"-95.7\" font-family=\"Times,serif\" font-size=\"14.00\">grad 0.0000</text>\n",
       "</g>\n",
       "<!-- 6063174032ReLU&#45;&gt;6063174032 -->\n",
       "<g id=\"edge5\" class=\"edge\">\n",
       "<title>6063174032ReLU&#45;&gt;6063174032</title>\n",
       "<path fill=\"none\" stroke=\"black\" d=\"M1143.27,-100.5C1150.61,-100.5 1158.74,-100.5 1167.19,-100.5\"/>\n",
       "<polygon fill=\"black\" stroke=\"black\" points=\"1166.93,-104 1176.93,-100.5 1166.93,-97 1166.93,-104\"/>\n",
       "</g>\n",
       "<!-- 6063684048 -->\n",
       "<g id=\"node15\" class=\"node\">\n",
       "<title>6063684048</title>\n",
       "<polygon fill=\"none\" stroke=\"black\" points=\"291.5,-0.5 291.5,-36.5 457,-36.5 457,-0.5 291.5,-0.5\"/>\n",
       "<text text-anchor=\"middle\" x=\"333.62\" y=\"-13.7\" font-family=\"Times,serif\" font-size=\"14.00\">data &#45;0.5440</text>\n",
       "<polyline fill=\"none\" stroke=\"black\" points=\"375.75,-1 375.75,-36.5\"/>\n",
       "<text text-anchor=\"middle\" x=\"416.38\" y=\"-13.7\" font-family=\"Times,serif\" font-size=\"14.00\">grad 0.0000</text>\n",
       "</g>\n",
       "<!-- 6063684048&#45;&gt;6063173712* -->\n",
       "<g id=\"edge8\" class=\"edge\">\n",
       "<title>6063684048&#45;&gt;6063173712*</title>\n",
       "<path fill=\"none\" stroke=\"black\" d=\"M430.88,-36.88C439.66,-39.97 448.61,-43.24 457,-46.5 466.78,-50.3 477.29,-54.73 486.82,-58.9\"/>\n",
       "<polygon fill=\"black\" stroke=\"black\" points=\"485.14,-61.98 495.7,-62.83 487.97,-55.58 485.14,-61.98\"/>\n",
       "</g>\n",
       "</g>\n",
       "</svg>\n"
      ],
      "text/plain": [
       "<graphviz.graphs.Digraph at 0x16964afd0>"
      ]
     },
     "execution_count": 56,
     "metadata": {},
     "output_type": "execute_result"
    }
   ],
   "source": [
    "dot"
   ]
  },
  {
   "cell_type": "code",
   "execution_count": null,
   "metadata": {},
   "outputs": [],
   "source": []
  }
 ],
 "metadata": {
  "kernelspec": {
   "display_name": "Python 3 (ipykernel)",
   "language": "python",
   "name": "python3"
  },
  "language_info": {
   "codemirror_mode": {
    "name": "ipython",
    "version": 3
   },
   "file_extension": ".py",
   "mimetype": "text/x-python",
   "name": "python",
   "nbconvert_exporter": "python",
   "pygments_lexer": "ipython3",
   "version": "3.11.8"
  }
 },
 "nbformat": 4,
 "nbformat_minor": 2
}
